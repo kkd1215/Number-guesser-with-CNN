{
 "cells": [
  {
   "cell_type": "code",
   "execution_count": 5,
   "metadata": {},
   "outputs": [],
   "source": [
    "import numpy as np\n",
    "import tensorflow as tf\n",
    "import keras\n",
    "from keras.models import load_model\n",
    "from keras.preprocessing import image\n",
    "model = tf.keras.models.load_model('m.model')"
   ]
  },
  {
   "cell_type": "code",
   "execution_count": 8,
   "metadata": {},
   "outputs": [],
   "source": [
    "test_image = image.load_img('screenshot.png', target_size = (150, 150))\n",
    "test_image = image.img_to_array(test_image)\n",
    "test_image = np.expand_dims(test_image, axis = 0)\n",
    "result = model.predict(test_image)"
   ]
  },
  {
   "cell_type": "code",
   "execution_count": 9,
   "metadata": {},
   "outputs": [
    {
     "name": "stdout",
     "output_type": "stream",
     "text": [
      "I predict this number is a: seven\n"
     ]
    }
   ],
   "source": [
    "t = (np.argmax(result[0]))\n",
    "\n",
    "def case(t):\n",
    "        switcher={\n",
    "                0:'eight',\n",
    "                1:'five',\n",
    "                2:'four',\n",
    "                3:'nine',\n",
    "                4:'one',\n",
    "                5:'seven',\n",
    "                6:'six',\n",
    "                7:'three',\n",
    "                8:'two',\n",
    "                9:'zero'\n",
    "             }\n",
    "        return switcher.get(t)\n",
    "\n",
    "print(\"I predict this number is a:\", case(t))"
   ]
  },
  {
   "cell_type": "code",
   "execution_count": null,
   "metadata": {},
   "outputs": [],
   "source": []
  }
 ],
 "metadata": {
  "kernelspec": {
   "display_name": "Python 3",
   "language": "python",
   "name": "python3"
  },
  "language_info": {
   "codemirror_mode": {
    "name": "ipython",
    "version": 3
   },
   "file_extension": ".py",
   "mimetype": "text/x-python",
   "name": "python",
   "nbconvert_exporter": "python",
   "pygments_lexer": "ipython3",
   "version": "3.6.5"
  }
 },
 "nbformat": 4,
 "nbformat_minor": 2
}
