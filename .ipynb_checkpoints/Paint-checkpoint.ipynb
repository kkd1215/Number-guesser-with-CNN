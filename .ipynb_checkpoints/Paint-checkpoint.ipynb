{
 "cells": [
  {
   "cell_type": "code",
   "execution_count": 2,
   "metadata": {},
   "outputs": [
    {
     "name": "stdout",
     "output_type": "stream",
     "text": [
      "pygame 1.9.6\n",
      "Hello from the pygame community. https://www.pygame.org/contribute.html\n"
     ]
    },
    {
     "name": "stderr",
     "output_type": "stream",
     "text": [
      "C:\\Users\\karan\\Anaconda3\\lib\\site-packages\\h5py\\__init__.py:36: FutureWarning: Conversion of the second argument of issubdtype from `float` to `np.floating` is deprecated. In future, it will be treated as `np.float64 == np.dtype(float).type`.\n",
      "  from ._conv import register_converters as _register_converters\n"
     ]
    },
    {
     "name": "stdout",
     "output_type": "stream",
     "text": [
      "WARNING:tensorflow:From C:\\Users\\karan\\Anaconda3\\lib\\site-packages\\tensorflow\\python\\ops\\resource_variable_ops.py:435: colocate_with (from tensorflow.python.framework.ops) is deprecated and will be removed in a future version.\n",
      "Instructions for updating:\n",
      "Colocations handled automatically by placer.\n",
      "WARNING:tensorflow:From C:\\Users\\karan\\Anaconda3\\lib\\site-packages\\tensorflow\\python\\keras\\layers\\core.py:143: calling dropout (from tensorflow.python.ops.nn_ops) with keep_prob is deprecated and will be removed in a future version.\n",
      "Instructions for updating:\n",
      "Please use `rate` instead of `keep_prob`. Rate should be set to `rate = 1 - keep_prob`.\n"
     ]
    },
    {
     "name": "stderr",
     "output_type": "stream",
     "text": [
      "Using TensorFlow backend.\n"
     ]
    },
    {
     "name": "stdout",
     "output_type": "stream",
     "text": [
      "WARNING:tensorflow:From C:\\Users\\karan\\Anaconda3\\lib\\site-packages\\tensorflow\\python\\ops\\math_ops.py:3066: to_int32 (from tensorflow.python.ops.math_ops) is deprecated and will be removed in a future version.\n",
      "Instructions for updating:\n",
      "Use tf.cast instead.\n"
     ]
    },
    {
     "data": {
      "text/plain": [
       "(6, 0)"
      ]
     },
     "execution_count": 2,
     "metadata": {},
     "output_type": "execute_result"
    }
   ],
   "source": [
    "import pygame\n",
    "import time\n",
    "import os\n",
    "from tkinter import *\n",
    "from tkinter import messagebox\n",
    "import numpy as np\n",
    "import tensorflow as tf\n",
    "from keras.models import load_model\n",
    "from keras.preprocessing import image\n",
    "model = tf.keras.models.load_model('m.model')\n",
    "\n",
    "pygame.init()"
   ]
  },
  {
   "cell_type": "code",
   "execution_count": 9,
   "metadata": {},
   "outputs": [],
   "source": [
    "class Paint:\n",
    "    def __init__(self, screen):\n",
    "        self.screen = screen\n",
    "        \n",
    "    def screenshot(self,screen): #add K and i for generation\n",
    "        #for i in range(0, 20):\n",
    "        #filename = 'nine' + str(i) + '.png'\n",
    "        pygame.image.save(self.screen, 'screenshot.png' )\n",
    "       # return k\n",
    "    \n",
    "    def Popup(self,header,text):\n",
    "        window = Tk()\n",
    "        window.withdraw()\n",
    "        messagebox.showinfo(header, text)\n",
    "        window.destroy()\n",
    "\n",
    "    \n",
    "    def clear(self):\n",
    "        screen.fill(white)\n",
    "        pygame.display.update()\n",
    "        self.Popup(\"Update\", \"Screen Cleared\")\n",
    "    \n",
    "def prediction():\n",
    "    test_image = image.load_img('screenshot.png', target_size = (150, 150))\n",
    "    test_image = image.img_to_array(test_image)\n",
    "    test_image = np.expand_dims(test_image, axis = 0)\n",
    "    result = model.predict(test_image)\n",
    "    t = (np.argmax(result[0]))\n",
    "    def case(t):\n",
    "        switcher={\n",
    "                0:'eight',\n",
    "                1:'five',\n",
    "                2:'four',\n",
    "                3:'nine',\n",
    "                4:'one',\n",
    "                5:'seven',\n",
    "                6:'six',\n",
    "                7:'three',\n",
    "                8:'two',\n",
    "                9:'zero'\n",
    "             }\n",
    "        return switcher.get(t) \n",
    "    final = 'I guess the number you drew is ' + str.upper(str(case(t)))\n",
    "    p.Popup('Prediction', final)\n",
    "    "
   ]
  },
  {
   "cell_type": "code",
   "execution_count": 12,
   "metadata": {},
   "outputs": [],
   "source": [
    "    width = 800\n",
    "    height = 600\n",
    "    white = (255, 255, 255)\n",
    "    black = (0, 0, 0)\n",
    "    screen = pygame.display.set_mode((width, height))\n",
    "    screen.fill(white)\n",
    "    pygame.display.set_caption(\"Digit Recognizer\")\n",
    "    brush = pygame.image.load('brush.png')\n",
    "    brush = pygame.transform.scale(brush,(128,128))\n",
    "    pygame.display.update()\n",
    "    clock = pygame.time.Clock()\n",
    "    p = Paint(screen)\n",
    "   # k = 0\n",
    "    i = 0\n",
    "    paint = 0\n",
    "    run = True\n",
    "    try :\n",
    "        while run:\n",
    "            clock.tick(60)\n",
    "            x,y = pygame.mouse.get_pos()\n",
    "            for event in pygame.event.get():\n",
    "                if event.type == pygame.QUIT:\n",
    "                    run = False\n",
    "                elif event.type == pygame.MOUSEBUTTONDOWN:\n",
    "                    if event.button == 1:\n",
    "                        paint = 1\n",
    "                elif event.type == pygame.MOUSEBUTTONUP:\n",
    "                    paint = 0\n",
    "\n",
    "                if paint == 1:\n",
    "                    screen.blit(brush,(x-64,y-64))\n",
    "                    pygame.display.update()\n",
    "                     \n",
    "                if event.type == pygame.KEYDOWN:\n",
    "                    if event.key == pygame.K_s:\n",
    "                            p.screenshot(screen)\n",
    "                            prediction()\n",
    "                           # i += 1\n",
    "                           # k = k+10 for dataset generation\n",
    "                        \n",
    "                    if event.key == pygame.K_c:\n",
    "                        p.clear()\n",
    "\n",
    "    except Exception as e:\n",
    "        print(e)\n",
    "\n",
    "    finally:\n",
    "        pygame.quit()\n",
    "        try:\n",
    "            os.remove(\"screenshot.png\")\n",
    "        except FileNotFoundError:\n",
    "            pass\n",
    "            "
   ]
  },
  {
   "cell_type": "code",
   "execution_count": null,
   "metadata": {},
   "outputs": [],
   "source": []
  }
 ],
 "metadata": {
  "kernelspec": {
   "display_name": "Python 3",
   "language": "python",
   "name": "python3"
  },
  "language_info": {
   "codemirror_mode": {
    "name": "ipython",
    "version": 3
   },
   "file_extension": ".py",
   "mimetype": "text/x-python",
   "name": "python",
   "nbconvert_exporter": "python",
   "pygments_lexer": "ipython3",
   "version": "3.6.5"
  }
 },
 "nbformat": 4,
 "nbformat_minor": 2
}
